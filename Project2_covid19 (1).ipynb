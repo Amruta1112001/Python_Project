{
 "cells": [
  {
   "cell_type": "markdown",
   "id": "c92eb2b8-ad5d-4fd9-918a-8c7910274499",
   "metadata": {},
   "source": [
    "# Project 2:On covid_19 database"
   ]
  },
  {
   "cell_type": "markdown",
   "id": "8124f5f9-cadd-4e72-8caa-72e25f837b57",
   "metadata": {},
   "source": [
    "# 1.Understanding the Data:"
   ]
  },
  {
   "cell_type": "code",
   "execution_count": 1,
   "id": "1d8c2192-803a-40b1-8085-c2cbc97cc1e0",
   "metadata": {},
   "outputs": [
    {
     "data": {
      "text/html": [
       "<div>\n",
       "<style scoped>\n",
       "    .dataframe tbody tr th:only-of-type {\n",
       "        vertical-align: middle;\n",
       "    }\n",
       "\n",
       "    .dataframe tbody tr th {\n",
       "        vertical-align: top;\n",
       "    }\n",
       "\n",
       "    .dataframe thead th {\n",
       "        text-align: right;\n",
       "    }\n",
       "</style>\n",
       "<table border=\"1\" class=\"dataframe\">\n",
       "  <thead>\n",
       "    <tr style=\"text-align: right;\">\n",
       "      <th></th>\n",
       "      <th>SNo</th>\n",
       "      <th>ObservationDate</th>\n",
       "      <th>Province/State</th>\n",
       "      <th>Country/Region</th>\n",
       "      <th>Last Update</th>\n",
       "      <th>Confirmed</th>\n",
       "      <th>Deaths</th>\n",
       "      <th>Recovered</th>\n",
       "    </tr>\n",
       "  </thead>\n",
       "  <tbody>\n",
       "    <tr>\n",
       "      <th>0</th>\n",
       "      <td>1</td>\n",
       "      <td>01/22/2020</td>\n",
       "      <td>Anhui</td>\n",
       "      <td>Mainland China</td>\n",
       "      <td>1/22/2020 17:00</td>\n",
       "      <td>1.0</td>\n",
       "      <td>0.0</td>\n",
       "      <td>0.0</td>\n",
       "    </tr>\n",
       "    <tr>\n",
       "      <th>1</th>\n",
       "      <td>2</td>\n",
       "      <td>01/22/2020</td>\n",
       "      <td>Beijing</td>\n",
       "      <td>Mainland China</td>\n",
       "      <td>1/22/2020 17:00</td>\n",
       "      <td>14.0</td>\n",
       "      <td>0.0</td>\n",
       "      <td>0.0</td>\n",
       "    </tr>\n",
       "    <tr>\n",
       "      <th>2</th>\n",
       "      <td>3</td>\n",
       "      <td>01/22/2020</td>\n",
       "      <td>Chongqing</td>\n",
       "      <td>Mainland China</td>\n",
       "      <td>1/22/2020 17:00</td>\n",
       "      <td>6.0</td>\n",
       "      <td>0.0</td>\n",
       "      <td>0.0</td>\n",
       "    </tr>\n",
       "    <tr>\n",
       "      <th>3</th>\n",
       "      <td>4</td>\n",
       "      <td>01/22/2020</td>\n",
       "      <td>Fujian</td>\n",
       "      <td>Mainland China</td>\n",
       "      <td>1/22/2020 17:00</td>\n",
       "      <td>1.0</td>\n",
       "      <td>0.0</td>\n",
       "      <td>0.0</td>\n",
       "    </tr>\n",
       "    <tr>\n",
       "      <th>4</th>\n",
       "      <td>5</td>\n",
       "      <td>01/22/2020</td>\n",
       "      <td>Gansu</td>\n",
       "      <td>Mainland China</td>\n",
       "      <td>1/22/2020 17:00</td>\n",
       "      <td>0.0</td>\n",
       "      <td>0.0</td>\n",
       "      <td>0.0</td>\n",
       "    </tr>\n",
       "    <tr>\n",
       "      <th>...</th>\n",
       "      <td>...</td>\n",
       "      <td>...</td>\n",
       "      <td>...</td>\n",
       "      <td>...</td>\n",
       "      <td>...</td>\n",
       "      <td>...</td>\n",
       "      <td>...</td>\n",
       "      <td>...</td>\n",
       "    </tr>\n",
       "    <tr>\n",
       "      <th>306424</th>\n",
       "      <td>306425</td>\n",
       "      <td>05/29/2021</td>\n",
       "      <td>Zaporizhia Oblast</td>\n",
       "      <td>Ukraine</td>\n",
       "      <td>2021-05-30 04:20:55</td>\n",
       "      <td>102641.0</td>\n",
       "      <td>2335.0</td>\n",
       "      <td>95289.0</td>\n",
       "    </tr>\n",
       "    <tr>\n",
       "      <th>306425</th>\n",
       "      <td>306426</td>\n",
       "      <td>05/29/2021</td>\n",
       "      <td>Zeeland</td>\n",
       "      <td>Netherlands</td>\n",
       "      <td>2021-05-30 04:20:55</td>\n",
       "      <td>29147.0</td>\n",
       "      <td>245.0</td>\n",
       "      <td>0.0</td>\n",
       "    </tr>\n",
       "    <tr>\n",
       "      <th>306426</th>\n",
       "      <td>306427</td>\n",
       "      <td>05/29/2021</td>\n",
       "      <td>Zhejiang</td>\n",
       "      <td>Mainland China</td>\n",
       "      <td>2021-05-30 04:20:55</td>\n",
       "      <td>1364.0</td>\n",
       "      <td>1.0</td>\n",
       "      <td>1324.0</td>\n",
       "    </tr>\n",
       "    <tr>\n",
       "      <th>306427</th>\n",
       "      <td>306428</td>\n",
       "      <td>05/29/2021</td>\n",
       "      <td>Zhytomyr Oblast</td>\n",
       "      <td>Ukraine</td>\n",
       "      <td>2021-05-30 04:20:55</td>\n",
       "      <td>87550.0</td>\n",
       "      <td>1738.0</td>\n",
       "      <td>83790.0</td>\n",
       "    </tr>\n",
       "    <tr>\n",
       "      <th>306428</th>\n",
       "      <td>306429</td>\n",
       "      <td>05/29/2021</td>\n",
       "      <td>Zuid-Holland</td>\n",
       "      <td>Netherlands</td>\n",
       "      <td>2021-05-30 04:20:55</td>\n",
       "      <td>391559.0</td>\n",
       "      <td>4252.0</td>\n",
       "      <td>0.0</td>\n",
       "    </tr>\n",
       "  </tbody>\n",
       "</table>\n",
       "<p>306429 rows × 8 columns</p>\n",
       "</div>"
      ],
      "text/plain": [
       "           SNo ObservationDate     Province/State  Country/Region  \\\n",
       "0            1      01/22/2020              Anhui  Mainland China   \n",
       "1            2      01/22/2020            Beijing  Mainland China   \n",
       "2            3      01/22/2020          Chongqing  Mainland China   \n",
       "3            4      01/22/2020             Fujian  Mainland China   \n",
       "4            5      01/22/2020              Gansu  Mainland China   \n",
       "...        ...             ...                ...             ...   \n",
       "306424  306425      05/29/2021  Zaporizhia Oblast         Ukraine   \n",
       "306425  306426      05/29/2021            Zeeland     Netherlands   \n",
       "306426  306427      05/29/2021           Zhejiang  Mainland China   \n",
       "306427  306428      05/29/2021    Zhytomyr Oblast         Ukraine   \n",
       "306428  306429      05/29/2021       Zuid-Holland     Netherlands   \n",
       "\n",
       "                Last Update  Confirmed  Deaths  Recovered  \n",
       "0           1/22/2020 17:00        1.0     0.0        0.0  \n",
       "1           1/22/2020 17:00       14.0     0.0        0.0  \n",
       "2           1/22/2020 17:00        6.0     0.0        0.0  \n",
       "3           1/22/2020 17:00        1.0     0.0        0.0  \n",
       "4           1/22/2020 17:00        0.0     0.0        0.0  \n",
       "...                     ...        ...     ...        ...  \n",
       "306424  2021-05-30 04:20:55   102641.0  2335.0    95289.0  \n",
       "306425  2021-05-30 04:20:55    29147.0   245.0        0.0  \n",
       "306426  2021-05-30 04:20:55     1364.0     1.0     1324.0  \n",
       "306427  2021-05-30 04:20:55    87550.0  1738.0    83790.0  \n",
       "306428  2021-05-30 04:20:55   391559.0  4252.0        0.0  \n",
       "\n",
       "[306429 rows x 8 columns]"
      ]
     },
     "execution_count": 1,
     "metadata": {},
     "output_type": "execute_result"
    }
   ],
   "source": [
    "# Load the dataset\n",
    "import pandas as pd\n",
    "df=pd.read_csv(\"C:/Data Analyst/python/Projects/project2/covid_19_data.csv\")\n",
    "df"
   ]
  },
  {
   "cell_type": "code",
   "execution_count": 15,
   "id": "3061268a-0ee1-4229-9e2b-524149dd3eae",
   "metadata": {},
   "outputs": [
    {
     "data": {
      "text/plain": [
       "(306429, 8)"
      ]
     },
     "execution_count": 15,
     "metadata": {},
     "output_type": "execute_result"
    }
   ],
   "source": [
    "# Display the rows and columns\n",
    "df.shape"
   ]
  },
  {
   "cell_type": "code",
   "execution_count": 17,
   "id": "c6909d75-7ad5-4e61-8ce6-449a83c4ddfd",
   "metadata": {},
   "outputs": [
    {
     "data": {
      "text/plain": [
       "Index(['SNo', 'ObservationDate', 'Province/State', 'Country/Region',\n",
       "       'Last Update', 'Confirmed', 'Deaths', 'Recovered'],\n",
       "      dtype='object')"
      ]
     },
     "execution_count": 17,
     "metadata": {},
     "output_type": "execute_result"
    }
   ],
   "source": [
    "# Display columns\n",
    "df.columns"
   ]
  },
  {
   "cell_type": "code",
   "execution_count": 19,
   "id": "0cf61534-1e90-4179-acda-dd6a3e96d1f8",
   "metadata": {},
   "outputs": [
    {
     "data": {
      "text/html": [
       "<div>\n",
       "<style scoped>\n",
       "    .dataframe tbody tr th:only-of-type {\n",
       "        vertical-align: middle;\n",
       "    }\n",
       "\n",
       "    .dataframe tbody tr th {\n",
       "        vertical-align: top;\n",
       "    }\n",
       "\n",
       "    .dataframe thead th {\n",
       "        text-align: right;\n",
       "    }\n",
       "</style>\n",
       "<table border=\"1\" class=\"dataframe\">\n",
       "  <thead>\n",
       "    <tr style=\"text-align: right;\">\n",
       "      <th></th>\n",
       "      <th>SNo</th>\n",
       "      <th>Confirmed</th>\n",
       "      <th>Deaths</th>\n",
       "      <th>Recovered</th>\n",
       "    </tr>\n",
       "  </thead>\n",
       "  <tbody>\n",
       "    <tr>\n",
       "      <th>count</th>\n",
       "      <td>306429.000000</td>\n",
       "      <td>3.064290e+05</td>\n",
       "      <td>306429.000000</td>\n",
       "      <td>3.064290e+05</td>\n",
       "    </tr>\n",
       "    <tr>\n",
       "      <th>mean</th>\n",
       "      <td>153215.000000</td>\n",
       "      <td>8.567091e+04</td>\n",
       "      <td>2036.403268</td>\n",
       "      <td>5.042029e+04</td>\n",
       "    </tr>\n",
       "    <tr>\n",
       "      <th>std</th>\n",
       "      <td>88458.577156</td>\n",
       "      <td>2.775516e+05</td>\n",
       "      <td>6410.938048</td>\n",
       "      <td>2.015124e+05</td>\n",
       "    </tr>\n",
       "    <tr>\n",
       "      <th>min</th>\n",
       "      <td>1.000000</td>\n",
       "      <td>-3.028440e+05</td>\n",
       "      <td>-178.000000</td>\n",
       "      <td>-8.544050e+05</td>\n",
       "    </tr>\n",
       "    <tr>\n",
       "      <th>25%</th>\n",
       "      <td>76608.000000</td>\n",
       "      <td>1.042000e+03</td>\n",
       "      <td>13.000000</td>\n",
       "      <td>1.100000e+01</td>\n",
       "    </tr>\n",
       "    <tr>\n",
       "      <th>50%</th>\n",
       "      <td>153215.000000</td>\n",
       "      <td>1.037500e+04</td>\n",
       "      <td>192.000000</td>\n",
       "      <td>1.751000e+03</td>\n",
       "    </tr>\n",
       "    <tr>\n",
       "      <th>75%</th>\n",
       "      <td>229822.000000</td>\n",
       "      <td>5.075200e+04</td>\n",
       "      <td>1322.000000</td>\n",
       "      <td>2.027000e+04</td>\n",
       "    </tr>\n",
       "    <tr>\n",
       "      <th>max</th>\n",
       "      <td>306429.000000</td>\n",
       "      <td>5.863138e+06</td>\n",
       "      <td>112385.000000</td>\n",
       "      <td>6.399531e+06</td>\n",
       "    </tr>\n",
       "  </tbody>\n",
       "</table>\n",
       "</div>"
      ],
      "text/plain": [
       "                 SNo     Confirmed         Deaths     Recovered\n",
       "count  306429.000000  3.064290e+05  306429.000000  3.064290e+05\n",
       "mean   153215.000000  8.567091e+04    2036.403268  5.042029e+04\n",
       "std     88458.577156  2.775516e+05    6410.938048  2.015124e+05\n",
       "min         1.000000 -3.028440e+05    -178.000000 -8.544050e+05\n",
       "25%     76608.000000  1.042000e+03      13.000000  1.100000e+01\n",
       "50%    153215.000000  1.037500e+04     192.000000  1.751000e+03\n",
       "75%    229822.000000  5.075200e+04    1322.000000  2.027000e+04\n",
       "max    306429.000000  5.863138e+06  112385.000000  6.399531e+06"
      ]
     },
     "execution_count": 19,
     "metadata": {},
     "output_type": "execute_result"
    }
   ],
   "source": [
    "# Describe the table\n",
    "df.describe()"
   ]
  },
  {
   "cell_type": "code",
   "execution_count": 21,
   "id": "085b016b-eb3d-4e9a-8c9f-f58aeae72ec8",
   "metadata": {},
   "outputs": [
    {
     "name": "stdout",
     "output_type": "stream",
     "text": [
      "<class 'pandas.core.frame.DataFrame'>\n",
      "RangeIndex: 306429 entries, 0 to 306428\n",
      "Data columns (total 8 columns):\n",
      " #   Column           Non-Null Count   Dtype  \n",
      "---  ------           --------------   -----  \n",
      " 0   SNo              306429 non-null  int64  \n",
      " 1   ObservationDate  306429 non-null  object \n",
      " 2   Province/State   228326 non-null  object \n",
      " 3   Country/Region   306429 non-null  object \n",
      " 4   Last Update      306429 non-null  object \n",
      " 5   Confirmed        306429 non-null  float64\n",
      " 6   Deaths           306429 non-null  float64\n",
      " 7   Recovered        306429 non-null  float64\n",
      "dtypes: float64(3), int64(1), object(4)\n",
      "memory usage: 18.7+ MB\n"
     ]
    }
   ],
   "source": [
    "# check the info of dataset\n",
    "df.info()"
   ]
  },
  {
   "cell_type": "code",
   "execution_count": 23,
   "id": "c953f0a5-8ae7-4a5b-ba53-867d175f75e8",
   "metadata": {},
   "outputs": [
    {
     "data": {
      "text/plain": [
       "dtype('float64')"
      ]
     },
     "execution_count": 23,
     "metadata": {},
     "output_type": "execute_result"
    }
   ],
   "source": [
    "# Check the datatype\n",
    "df['Confirmed'].dtypes"
   ]
  },
  {
   "cell_type": "code",
   "execution_count": null,
   "id": "d137d8dd-4ec8-4335-b1d2-2af8b2cfcc23",
   "metadata": {},
   "outputs": [],
   "source": []
  },
  {
   "cell_type": "code",
   "execution_count": 26,
   "id": "0aa2cf93-687f-43b4-916c-18a4441700df",
   "metadata": {},
   "outputs": [
    {
     "data": {
      "text/plain": [
       "array(['Mainland China', 'Hong Kong', 'Macau', 'Taiwan', 'US', 'Japan',\n",
       "       'Thailand', 'South Korea', 'China', 'Kiribati', 'Singapore',\n",
       "       'Philippines', 'Malaysia', 'Vietnam', 'Australia', 'Mexico',\n",
       "       'Brazil', 'Colombia', 'France', 'Nepal', 'Canada', 'Cambodia',\n",
       "       'Sri Lanka', 'Ivory Coast', 'Germany', 'Finland',\n",
       "       'United Arab Emirates', 'India', 'Italy', 'UK', 'Russia', 'Sweden',\n",
       "       'Spain', 'Belgium', 'Others', 'Egypt', 'Iran', 'Israel', 'Lebanon',\n",
       "       'Iraq', 'Oman', 'Afghanistan', 'Bahrain', 'Kuwait', 'Austria',\n",
       "       'Algeria', 'Croatia', 'Switzerland', 'Pakistan', 'Georgia',\n",
       "       'Greece', 'North Macedonia', 'Norway', 'Romania', 'Denmark',\n",
       "       'Estonia', 'Netherlands', 'San Marino', ' Azerbaijan', 'Belarus',\n",
       "       'Iceland', 'Lithuania', 'New Zealand', 'Nigeria', 'North Ireland',\n",
       "       'Ireland', 'Luxembourg', 'Monaco', 'Qatar', 'Ecuador',\n",
       "       'Azerbaijan', 'Czech Republic', 'Armenia', 'Dominican Republic',\n",
       "       'Indonesia', 'Portugal', 'Andorra', 'Latvia', 'Morocco',\n",
       "       'Saudi Arabia', 'Senegal', 'Argentina', 'Chile', 'Jordan',\n",
       "       'Ukraine', 'Saint Barthelemy', 'Hungary', 'Faroe Islands',\n",
       "       'Gibraltar', 'Liechtenstein', 'Poland', 'Tunisia', 'Palestine',\n",
       "       'Bosnia and Herzegovina', 'Slovenia', 'South Africa', 'Bhutan',\n",
       "       'Cameroon', 'Costa Rica', 'Peru', 'Serbia', 'Slovakia', 'Togo',\n",
       "       'Vatican City', 'French Guiana', 'Malta', 'Martinique',\n",
       "       'Republic of Ireland', 'Bulgaria', 'Maldives', 'Bangladesh',\n",
       "       'Moldova', 'Paraguay', 'Albania', 'Cyprus', 'St. Martin', 'Brunei',\n",
       "       'occupied Palestinian territory', \"('St. Martin',)\",\n",
       "       'Burkina Faso', 'Channel Islands', 'Holy See', 'Mongolia',\n",
       "       'Panama', 'Bolivia', 'Honduras', 'Congo (Kinshasa)', 'Jamaica',\n",
       "       'Reunion', 'Turkey', 'Cuba', 'Guyana', 'Kazakhstan',\n",
       "       'Cayman Islands', 'Guadeloupe', 'Ethiopia', 'Sudan', 'Guinea',\n",
       "       'Antigua and Barbuda', 'Aruba', 'Kenya', 'Uruguay', 'Ghana',\n",
       "       'Jersey', 'Namibia', 'Seychelles', 'Trinidad and Tobago',\n",
       "       'Venezuela', 'Curacao', 'Eswatini', 'Gabon', 'Guatemala',\n",
       "       'Guernsey', 'Mauritania', 'Rwanda', 'Saint Lucia',\n",
       "       'Saint Vincent and the Grenadines', 'Suriname', 'Kosovo',\n",
       "       'Central African Republic', 'Congo (Brazzaville)',\n",
       "       'Equatorial Guinea', 'Uzbekistan', 'Guam', 'Puerto Rico', 'Benin',\n",
       "       'Greenland', 'Liberia', 'Mayotte', 'Republic of the Congo',\n",
       "       'Somalia', 'Tanzania', 'The Bahamas', 'Barbados', 'Montenegro',\n",
       "       'The Gambia', 'Kyrgyzstan', 'Mauritius', 'Zambia', 'Djibouti',\n",
       "       'Gambia, The', 'Bahamas, The', 'Chad', 'El Salvador', 'Fiji',\n",
       "       'Nicaragua', 'Madagascar', 'Haiti', 'Angola', 'Cabo Verde',\n",
       "       'Niger', 'Papua New Guinea', 'Zimbabwe', 'Cape Verde',\n",
       "       'East Timor', 'Eritrea', 'Uganda', 'Bahamas', 'Dominica', 'Gambia',\n",
       "       'Grenada', 'Mozambique', 'Samoa', 'Syria', 'Timor-Leste', 'Belize',\n",
       "       'Laos', 'Libya', 'Diamond Princess', 'Guinea-Bissau', 'Mali',\n",
       "       'Saint Kitts and Nevis', 'West Bank and Gaza', 'Burma',\n",
       "       'MS Zaandam', 'Botswana', 'Burundi', 'Sierra Leone', 'Malawi',\n",
       "       'South Sudan', 'Sao Tome and Principe', 'Yemen', 'Comoros',\n",
       "       'Tajikistan', 'Lesotho', 'Solomon Islands', 'Marshall Islands',\n",
       "       'Vanuatu', 'Micronesia'], dtype=object)"
      ]
     },
     "execution_count": 26,
     "metadata": {},
     "output_type": "execute_result"
    }
   ],
   "source": [
    "# Display unique values\n",
    "df['Country/Region'].unique()"
   ]
  },
  {
   "cell_type": "code",
   "execution_count": 28,
   "id": "b3fe717e-8ec4-42ba-8166-464195fce07a",
   "metadata": {},
   "outputs": [
    {
     "data": {
      "text/plain": [
       "229"
      ]
     },
     "execution_count": 28,
     "metadata": {},
     "output_type": "execute_result"
    }
   ],
   "source": [
    "# check the number of unique values\n",
    "df['Country/Region'].nunique()"
   ]
  },
  {
   "cell_type": "code",
   "execution_count": 30,
   "id": "43dac717-0645-4a01-967e-9a707ffa818d",
   "metadata": {},
   "outputs": [],
   "source": [
    "# check for missing values"
   ]
  },
  {
   "cell_type": "code",
   "execution_count": 32,
   "id": "9e6abd14-a8b3-4480-8474-b2625738728c",
   "metadata": {},
   "outputs": [
    {
     "data": {
      "text/plain": [
       "SNo                    0\n",
       "ObservationDate        0\n",
       "Province/State     78103\n",
       "Country/Region         0\n",
       "Last Update            0\n",
       "Confirmed              0\n",
       "Deaths                 0\n",
       "Recovered              0\n",
       "dtype: int64"
      ]
     },
     "execution_count": 32,
     "metadata": {},
     "output_type": "execute_result"
    }
   ],
   "source": [
    "df.isna().sum()"
   ]
  },
  {
   "cell_type": "markdown",
   "id": "0aee2ee2-6b80-4005-9a69-eee45f3dbb0a",
   "metadata": {},
   "source": [
    "# 2.Data cleaning"
   ]
  },
  {
   "cell_type": "code",
   "execution_count": 35,
   "id": "c0ef91b7-0be2-43c8-8316-ee706c1e4537",
   "metadata": {},
   "outputs": [],
   "source": [
    "# Handle missing values.\n",
    "#If unique values present treat missing Values\n",
    "\n",
    "cat=[]\n",
    "con=[]\n",
    "\n",
    "for i in df.columns:\n",
    "    if df[i].dtypes==\"object\":\n",
    "        s=df[i].mode()[0]\n",
    "        df[i]=df[i].fillna(s)\n",
    "    else:\n",
    "        mean=df[i].mean()\n",
    "        df[i]=df[i].mean()"
   ]
  },
  {
   "cell_type": "code",
   "execution_count": 37,
   "id": "f4c32a0d-5aa2-4890-9431-c1c3333e3d4f",
   "metadata": {},
   "outputs": [
    {
     "data": {
      "text/plain": [
       "SNo                0\n",
       "ObservationDate    0\n",
       "Province/State     0\n",
       "Country/Region     0\n",
       "Last Update        0\n",
       "Confirmed          0\n",
       "Deaths             0\n",
       "Recovered          0\n",
       "dtype: int64"
      ]
     },
     "execution_count": 37,
     "metadata": {},
     "output_type": "execute_result"
    }
   ],
   "source": [
    "# Again check missing values\n",
    "df.isna().sum()"
   ]
  },
  {
   "cell_type": "code",
   "execution_count": null,
   "id": "22988c19-2081-4c8e-841c-ef83f86ca7c0",
   "metadata": {},
   "outputs": [],
   "source": []
  },
  {
   "cell_type": "code",
   "execution_count": 39,
   "id": "d6ebc04e-0d73-41fd-a381-7faf9042ac8c",
   "metadata": {},
   "outputs": [],
   "source": [
    "# Convert data types if necessary.\n",
    "# Convert data types if necessary ( ObservationDate    datetime64[ns]) change to datetime\n",
    "# df['ObservationDate'] = pd.to_datetime(df['ObservationDate'])\n",
    "df['ObservationDate']=pd.to_datetime(df['ObservationDate'])"
   ]
  },
  {
   "cell_type": "code",
   "execution_count": 41,
   "id": "44c0c2cb-8ff7-4c33-8cbd-9e71d6856d58",
   "metadata": {},
   "outputs": [
    {
     "data": {
      "text/html": [
       "<div>\n",
       "<style scoped>\n",
       "    .dataframe tbody tr th:only-of-type {\n",
       "        vertical-align: middle;\n",
       "    }\n",
       "\n",
       "    .dataframe tbody tr th {\n",
       "        vertical-align: top;\n",
       "    }\n",
       "\n",
       "    .dataframe thead th {\n",
       "        text-align: right;\n",
       "    }\n",
       "</style>\n",
       "<table border=\"1\" class=\"dataframe\">\n",
       "  <thead>\n",
       "    <tr style=\"text-align: right;\">\n",
       "      <th></th>\n",
       "      <th>SNo</th>\n",
       "      <th>ObservationDate</th>\n",
       "      <th>Province/State</th>\n",
       "      <th>Country/Region</th>\n",
       "      <th>Last Update</th>\n",
       "      <th>Confirmed</th>\n",
       "      <th>Deaths</th>\n",
       "      <th>Recovered</th>\n",
       "    </tr>\n",
       "  </thead>\n",
       "  <tbody>\n",
       "    <tr>\n",
       "      <th>0</th>\n",
       "      <td>153215.0</td>\n",
       "      <td>2020-01-22</td>\n",
       "      <td>Anhui</td>\n",
       "      <td>Mainland China</td>\n",
       "      <td>1/22/2020 17:00</td>\n",
       "      <td>85670.911559</td>\n",
       "      <td>2036.403268</td>\n",
       "      <td>50420.286304</td>\n",
       "    </tr>\n",
       "    <tr>\n",
       "      <th>1</th>\n",
       "      <td>153215.0</td>\n",
       "      <td>2020-01-22</td>\n",
       "      <td>Beijing</td>\n",
       "      <td>Mainland China</td>\n",
       "      <td>1/22/2020 17:00</td>\n",
       "      <td>85670.911559</td>\n",
       "      <td>2036.403268</td>\n",
       "      <td>50420.286304</td>\n",
       "    </tr>\n",
       "    <tr>\n",
       "      <th>2</th>\n",
       "      <td>153215.0</td>\n",
       "      <td>2020-01-22</td>\n",
       "      <td>Chongqing</td>\n",
       "      <td>Mainland China</td>\n",
       "      <td>1/22/2020 17:00</td>\n",
       "      <td>85670.911559</td>\n",
       "      <td>2036.403268</td>\n",
       "      <td>50420.286304</td>\n",
       "    </tr>\n",
       "    <tr>\n",
       "      <th>3</th>\n",
       "      <td>153215.0</td>\n",
       "      <td>2020-01-22</td>\n",
       "      <td>Fujian</td>\n",
       "      <td>Mainland China</td>\n",
       "      <td>1/22/2020 17:00</td>\n",
       "      <td>85670.911559</td>\n",
       "      <td>2036.403268</td>\n",
       "      <td>50420.286304</td>\n",
       "    </tr>\n",
       "    <tr>\n",
       "      <th>4</th>\n",
       "      <td>153215.0</td>\n",
       "      <td>2020-01-22</td>\n",
       "      <td>Gansu</td>\n",
       "      <td>Mainland China</td>\n",
       "      <td>1/22/2020 17:00</td>\n",
       "      <td>85670.911559</td>\n",
       "      <td>2036.403268</td>\n",
       "      <td>50420.286304</td>\n",
       "    </tr>\n",
       "    <tr>\n",
       "      <th>...</th>\n",
       "      <td>...</td>\n",
       "      <td>...</td>\n",
       "      <td>...</td>\n",
       "      <td>...</td>\n",
       "      <td>...</td>\n",
       "      <td>...</td>\n",
       "      <td>...</td>\n",
       "      <td>...</td>\n",
       "    </tr>\n",
       "    <tr>\n",
       "      <th>306424</th>\n",
       "      <td>153215.0</td>\n",
       "      <td>2021-05-29</td>\n",
       "      <td>Zaporizhia Oblast</td>\n",
       "      <td>Ukraine</td>\n",
       "      <td>2021-05-30 04:20:55</td>\n",
       "      <td>85670.911559</td>\n",
       "      <td>2036.403268</td>\n",
       "      <td>50420.286304</td>\n",
       "    </tr>\n",
       "    <tr>\n",
       "      <th>306425</th>\n",
       "      <td>153215.0</td>\n",
       "      <td>2021-05-29</td>\n",
       "      <td>Zeeland</td>\n",
       "      <td>Netherlands</td>\n",
       "      <td>2021-05-30 04:20:55</td>\n",
       "      <td>85670.911559</td>\n",
       "      <td>2036.403268</td>\n",
       "      <td>50420.286304</td>\n",
       "    </tr>\n",
       "    <tr>\n",
       "      <th>306426</th>\n",
       "      <td>153215.0</td>\n",
       "      <td>2021-05-29</td>\n",
       "      <td>Zhejiang</td>\n",
       "      <td>Mainland China</td>\n",
       "      <td>2021-05-30 04:20:55</td>\n",
       "      <td>85670.911559</td>\n",
       "      <td>2036.403268</td>\n",
       "      <td>50420.286304</td>\n",
       "    </tr>\n",
       "    <tr>\n",
       "      <th>306427</th>\n",
       "      <td>153215.0</td>\n",
       "      <td>2021-05-29</td>\n",
       "      <td>Zhytomyr Oblast</td>\n",
       "      <td>Ukraine</td>\n",
       "      <td>2021-05-30 04:20:55</td>\n",
       "      <td>85670.911559</td>\n",
       "      <td>2036.403268</td>\n",
       "      <td>50420.286304</td>\n",
       "    </tr>\n",
       "    <tr>\n",
       "      <th>306428</th>\n",
       "      <td>153215.0</td>\n",
       "      <td>2021-05-29</td>\n",
       "      <td>Zuid-Holland</td>\n",
       "      <td>Netherlands</td>\n",
       "      <td>2021-05-30 04:20:55</td>\n",
       "      <td>85670.911559</td>\n",
       "      <td>2036.403268</td>\n",
       "      <td>50420.286304</td>\n",
       "    </tr>\n",
       "  </tbody>\n",
       "</table>\n",
       "<p>306429 rows × 8 columns</p>\n",
       "</div>"
      ],
      "text/plain": [
       "             SNo ObservationDate     Province/State  Country/Region  \\\n",
       "0       153215.0      2020-01-22              Anhui  Mainland China   \n",
       "1       153215.0      2020-01-22            Beijing  Mainland China   \n",
       "2       153215.0      2020-01-22          Chongqing  Mainland China   \n",
       "3       153215.0      2020-01-22             Fujian  Mainland China   \n",
       "4       153215.0      2020-01-22              Gansu  Mainland China   \n",
       "...          ...             ...                ...             ...   \n",
       "306424  153215.0      2021-05-29  Zaporizhia Oblast         Ukraine   \n",
       "306425  153215.0      2021-05-29            Zeeland     Netherlands   \n",
       "306426  153215.0      2021-05-29           Zhejiang  Mainland China   \n",
       "306427  153215.0      2021-05-29    Zhytomyr Oblast         Ukraine   \n",
       "306428  153215.0      2021-05-29       Zuid-Holland     Netherlands   \n",
       "\n",
       "                Last Update     Confirmed       Deaths     Recovered  \n",
       "0           1/22/2020 17:00  85670.911559  2036.403268  50420.286304  \n",
       "1           1/22/2020 17:00  85670.911559  2036.403268  50420.286304  \n",
       "2           1/22/2020 17:00  85670.911559  2036.403268  50420.286304  \n",
       "3           1/22/2020 17:00  85670.911559  2036.403268  50420.286304  \n",
       "4           1/22/2020 17:00  85670.911559  2036.403268  50420.286304  \n",
       "...                     ...           ...          ...           ...  \n",
       "306424  2021-05-30 04:20:55  85670.911559  2036.403268  50420.286304  \n",
       "306425  2021-05-30 04:20:55  85670.911559  2036.403268  50420.286304  \n",
       "306426  2021-05-30 04:20:55  85670.911559  2036.403268  50420.286304  \n",
       "306427  2021-05-30 04:20:55  85670.911559  2036.403268  50420.286304  \n",
       "306428  2021-05-30 04:20:55  85670.911559  2036.403268  50420.286304  \n",
       "\n",
       "[306429 rows x 8 columns]"
      ]
     },
     "execution_count": 41,
     "metadata": {},
     "output_type": "execute_result"
    }
   ],
   "source": [
    "# Check the change date\n",
    "df"
   ]
  },
  {
   "cell_type": "code",
   "execution_count": 43,
   "id": "aadef4b5-2bd9-4ad7-9445-b28828d218c1",
   "metadata": {},
   "outputs": [
    {
     "name": "stdout",
     "output_type": "stream",
     "text": [
      "Number of duplicates: 1\n"
     ]
    }
   ],
   "source": [
    "# Check for duplicates.\n",
    "# print(\"Number of duplicates:\", df.duplicated().sum())\n",
    "print(\"Number of duplicates:\",df.duplicated().sum())"
   ]
  },
  {
   "cell_type": "markdown",
   "id": "20d4d5aa-59ac-4a4b-b2c4-cae4d1becc81",
   "metadata": {},
   "source": [
    "# 3.Descriptive Statistics"
   ]
  },
  {
   "cell_type": "code",
   "execution_count": 45,
   "id": "fc32d9b5-bba9-4e30-830d-1ee889b751ab",
   "metadata": {},
   "outputs": [
    {
     "data": {
      "text/plain": [
       "50420.28630449466"
      ]
     },
     "execution_count": 45,
     "metadata": {},
     "output_type": "execute_result"
    }
   ],
   "source": [
    "# Generate descriptive statistics (mean, median, min, max) for numeric columns.<br>\n",
    "df['Recovered'].mean()"
   ]
  },
  {
   "cell_type": "code",
   "execution_count": 47,
   "id": "69a9db75-f89d-4376-b1b4-1fb2aff57a0c",
   "metadata": {},
   "outputs": [
    {
     "data": {
      "text/plain": [
       "2036.403267967457"
      ]
     },
     "execution_count": 47,
     "metadata": {},
     "output_type": "execute_result"
    }
   ],
   "source": [
    "df['Deaths'].mean()"
   ]
  },
  {
   "cell_type": "code",
   "execution_count": 49,
   "id": "b8c4464d-048a-4806-8074-62fccc7bbf12",
   "metadata": {},
   "outputs": [
    {
     "data": {
      "text/plain": [
       "50420.28630449468"
      ]
     },
     "execution_count": 49,
     "metadata": {},
     "output_type": "execute_result"
    }
   ],
   "source": [
    "df['Recovered'].median()"
   ]
  },
  {
   "cell_type": "code",
   "execution_count": 51,
   "id": "1e48305f-e47f-4392-8634-1ab9a5a6775c",
   "metadata": {},
   "outputs": [
    {
     "data": {
      "text/plain": [
       "2036.4032679674574"
      ]
     },
     "execution_count": 51,
     "metadata": {},
     "output_type": "execute_result"
    }
   ],
   "source": [
    "df['Deaths'].median()"
   ]
  },
  {
   "cell_type": "code",
   "execution_count": 53,
   "id": "f9c22181-49f2-4da8-a019-f53657240797",
   "metadata": {},
   "outputs": [
    {
     "data": {
      "text/plain": [
       "50420.28630449468"
      ]
     },
     "execution_count": 53,
     "metadata": {},
     "output_type": "execute_result"
    }
   ],
   "source": [
    "df['Recovered'].min()"
   ]
  },
  {
   "cell_type": "code",
   "execution_count": 55,
   "id": "7a53b1f9-d637-4f16-8372-985dae38ea38",
   "metadata": {},
   "outputs": [
    {
     "data": {
      "text/plain": [
       "2036.4032679674574"
      ]
     },
     "execution_count": 55,
     "metadata": {},
     "output_type": "execute_result"
    }
   ],
   "source": [
    "df['Deaths'].min()"
   ]
  },
  {
   "cell_type": "code",
   "execution_count": 57,
   "id": "5960afc1-63f1-419c-ac80-8cc72f3c9f4e",
   "metadata": {},
   "outputs": [
    {
     "data": {
      "text/plain": [
       "50420.28630449468"
      ]
     },
     "execution_count": 57,
     "metadata": {},
     "output_type": "execute_result"
    }
   ],
   "source": [
    "df['Recovered'].max()"
   ]
  },
  {
   "cell_type": "code",
   "execution_count": 59,
   "id": "8b15c5b8-f325-478f-af01-3d74d7456a98",
   "metadata": {},
   "outputs": [
    {
     "data": {
      "text/plain": [
       "2036.4032679674574"
      ]
     },
     "execution_count": 59,
     "metadata": {},
     "output_type": "execute_result"
    }
   ],
   "source": [
    "df['Deaths'].max()"
   ]
  },
  {
   "cell_type": "code",
   "execution_count": 61,
   "id": "04a2e698-2747-4300-9e8b-ee970852e08a",
   "metadata": {},
   "outputs": [],
   "source": [
    "# Explore summary statistics for categorical columns.\n",
    "\n",
    "cat=[]\n",
    "con=[]\n",
    "\n",
    "for i in df.columns:\n",
    "    if df[i].dtypes==\"object\":\n",
    "        cat.append(i)\n",
    "    else:\n",
    "        con.append(i)\n",
    "    "
   ]
  },
  {
   "cell_type": "code",
   "execution_count": 63,
   "id": "b81b992f-9387-451b-9d1c-62f5c3cd4cb5",
   "metadata": {},
   "outputs": [
    {
     "data": {
      "text/plain": [
       "['Province/State', 'Country/Region', 'Last Update']"
      ]
     },
     "execution_count": 63,
     "metadata": {},
     "output_type": "execute_result"
    }
   ],
   "source": [
    "# Display categorical data\n",
    "cat"
   ]
  },
  {
   "cell_type": "code",
   "execution_count": 65,
   "id": "2e3c0f07-7801-47d9-8f7d-1019b8f99295",
   "metadata": {},
   "outputs": [
    {
     "data": {
      "text/plain": [
       "['SNo', 'ObservationDate', 'Confirmed', 'Deaths', 'Recovered']"
      ]
     },
     "execution_count": 65,
     "metadata": {},
     "output_type": "execute_result"
    }
   ],
   "source": [
    "# Display continuous data\n",
    "con"
   ]
  },
  {
   "cell_type": "markdown",
   "id": "04d805b7-f9b2-48d0-a66a-016ae7df1677",
   "metadata": {},
   "source": [
    "# 4. Time Series Analysis:"
   ]
  },
  {
   "cell_type": "code",
   "execution_count": 68,
   "id": "c106b7bc-8eb0-490d-9db6-297e7b724340",
   "metadata": {},
   "outputs": [],
   "source": [
    "#Analyze the trends in confirmed, deaths, and recovered cases over time.<br> Create time-based visualizations."
   ]
  },
  {
   "cell_type": "code",
   "execution_count": 70,
   "id": "e7cfd7ef-56a9-4343-875a-ea94535fef25",
   "metadata": {},
   "outputs": [],
   "source": [
    "# groupby 'ObservationDate' and apply aggregation functions like sum on deaths,confirmed ,recovered"
   ]
  },
  {
   "cell_type": "code",
   "execution_count": 72,
   "id": "4ebc9e47-4531-42fd-aa46-a8a630f4762d",
   "metadata": {},
   "outputs": [
    {
     "data": {
      "text/html": [
       "<div>\n",
       "<style scoped>\n",
       "    .dataframe tbody tr th:only-of-type {\n",
       "        vertical-align: middle;\n",
       "    }\n",
       "\n",
       "    .dataframe tbody tr th {\n",
       "        vertical-align: top;\n",
       "    }\n",
       "\n",
       "    .dataframe thead th {\n",
       "        text-align: right;\n",
       "    }\n",
       "</style>\n",
       "<table border=\"1\" class=\"dataframe\">\n",
       "  <thead>\n",
       "    <tr style=\"text-align: right;\">\n",
       "      <th></th>\n",
       "      <th>Confirmed</th>\n",
       "      <th>Deaths</th>\n",
       "      <th>Recovered</th>\n",
       "    </tr>\n",
       "    <tr>\n",
       "      <th>ObservationDate</th>\n",
       "      <th></th>\n",
       "      <th></th>\n",
       "      <th></th>\n",
       "    </tr>\n",
       "  </thead>\n",
       "  <tbody>\n",
       "    <tr>\n",
       "      <th>2020-01-22</th>\n",
       "      <td>3.426836e+06</td>\n",
       "      <td>8.145613e+04</td>\n",
       "      <td>2.016811e+06</td>\n",
       "    </tr>\n",
       "    <tr>\n",
       "      <th>2020-01-23</th>\n",
       "      <td>4.112204e+06</td>\n",
       "      <td>9.774736e+04</td>\n",
       "      <td>2.420174e+06</td>\n",
       "    </tr>\n",
       "    <tr>\n",
       "      <th>2020-01-24</th>\n",
       "      <td>3.683849e+06</td>\n",
       "      <td>8.756534e+04</td>\n",
       "      <td>2.168072e+06</td>\n",
       "    </tr>\n",
       "    <tr>\n",
       "      <th>2020-01-25</th>\n",
       "      <td>3.940862e+06</td>\n",
       "      <td>9.367455e+04</td>\n",
       "      <td>2.319333e+06</td>\n",
       "    </tr>\n",
       "    <tr>\n",
       "      <th>2020-01-26</th>\n",
       "      <td>4.197875e+06</td>\n",
       "      <td>9.978376e+04</td>\n",
       "      <td>2.470594e+06</td>\n",
       "    </tr>\n",
       "    <tr>\n",
       "      <th>...</th>\n",
       "      <td>...</td>\n",
       "      <td>...</td>\n",
       "      <td>...</td>\n",
       "    </tr>\n",
       "    <tr>\n",
       "      <th>2021-05-25</th>\n",
       "      <td>6.553825e+07</td>\n",
       "      <td>1.557848e+06</td>\n",
       "      <td>3.857152e+07</td>\n",
       "    </tr>\n",
       "    <tr>\n",
       "      <th>2021-05-26</th>\n",
       "      <td>6.553825e+07</td>\n",
       "      <td>1.557848e+06</td>\n",
       "      <td>3.857152e+07</td>\n",
       "    </tr>\n",
       "    <tr>\n",
       "      <th>2021-05-27</th>\n",
       "      <td>6.553825e+07</td>\n",
       "      <td>1.557848e+06</td>\n",
       "      <td>3.857152e+07</td>\n",
       "    </tr>\n",
       "    <tr>\n",
       "      <th>2021-05-28</th>\n",
       "      <td>6.553825e+07</td>\n",
       "      <td>1.557848e+06</td>\n",
       "      <td>3.857152e+07</td>\n",
       "    </tr>\n",
       "    <tr>\n",
       "      <th>2021-05-29</th>\n",
       "      <td>6.553825e+07</td>\n",
       "      <td>1.557848e+06</td>\n",
       "      <td>3.857152e+07</td>\n",
       "    </tr>\n",
       "  </tbody>\n",
       "</table>\n",
       "<p>494 rows × 3 columns</p>\n",
       "</div>"
      ],
      "text/plain": [
       "                    Confirmed        Deaths     Recovered\n",
       "ObservationDate                                          \n",
       "2020-01-22       3.426836e+06  8.145613e+04  2.016811e+06\n",
       "2020-01-23       4.112204e+06  9.774736e+04  2.420174e+06\n",
       "2020-01-24       3.683849e+06  8.756534e+04  2.168072e+06\n",
       "2020-01-25       3.940862e+06  9.367455e+04  2.319333e+06\n",
       "2020-01-26       4.197875e+06  9.978376e+04  2.470594e+06\n",
       "...                       ...           ...           ...\n",
       "2021-05-25       6.553825e+07  1.557848e+06  3.857152e+07\n",
       "2021-05-26       6.553825e+07  1.557848e+06  3.857152e+07\n",
       "2021-05-27       6.553825e+07  1.557848e+06  3.857152e+07\n",
       "2021-05-28       6.553825e+07  1.557848e+06  3.857152e+07\n",
       "2021-05-29       6.553825e+07  1.557848e+06  3.857152e+07\n",
       "\n",
       "[494 rows x 3 columns]"
      ]
     },
     "execution_count": 72,
     "metadata": {},
     "output_type": "execute_result"
    }
   ],
   "source": [
    "# df_time = df.groupby('ObservationDate').agg({'Confirmed': 'sum', 'Deaths': 'sum', 'Recovered': 'sum'})\n",
    "df_time=df.groupby('ObservationDate').agg({'Confirmed':'sum','Deaths':'sum','Recovered':'sum'})\n",
    "df_time"
   ]
  },
  {
   "cell_type": "code",
   "execution_count": 74,
   "id": "265d6d98-d30b-48bb-877c-d7e7d51a7b39",
   "metadata": {},
   "outputs": [
    {
     "data": {
      "text/plain": [
       "<Axes: xlabel='ObservationDate', ylabel='Confirmed'>"
      ]
     },
     "execution_count": 74,
     "metadata": {},
     "output_type": "execute_result"
    },
    {
     "data": {
      "image/png": "[encoded data removed]",
      "text/plain": [
       "<Figure size 640x480 with 1 Axes>"
      ]
     },
     "metadata": {},
     "output_type": "display_data"
    }
   ],
   "source": [
    "# Plot time series data using line plot\n",
    "# syntax: \n",
    "#sns.lineplot(data=df_time, x='ObservationDate', y='Confirmed', label='Confirmed')\n",
    "# sns.lineplot(data=df_time, x='ObservationDate', y='Deaths', label='Deaths')\n",
    "\n",
    "import matplotlib.pyplot as plt\n",
    "import seaborn as sns\n",
    "sns.lineplot(data=df_time,x='ObservationDate',y='Confirmed',label='Confirmed')"
   ]
  },
  {
   "cell_type": "code",
   "execution_count": 76,
   "id": "56f92723-fa81-4092-8430-d9df9be29fb7",
   "metadata": {},
   "outputs": [
    {
     "data": {
      "text/plain": [
       "<Axes: xlabel='ObservationDate', ylabel='Deaths'>"
      ]
     },
     "execution_count": 76,
     "metadata": {},
     "output_type": "execute_result"
    },
    {
     "data": {
      "image/png": "[encoded data removed]",
      "text/plain": [
       "<Figure size 640x480 with 1 Axes>"
      ]
     },
     "metadata": {},
     "output_type": "display_data"
    }
   ],
   "source": [
    "import matplotlib.pyplot as plt\n",
    "import seaborn as sns\n",
    "sns.lineplot(data=df_time,x='ObservationDate',y='Deaths',label='Deaths')"
   ]
  },
  {
   "cell_type": "code",
   "execution_count": null,
   "id": "462d8d41-f40a-4187-9348-07415b0ea23a",
   "metadata": {},
   "outputs": [],
   "source": []
  },
  {
   "cell_type": "markdown",
   "id": "1124f867-1510-4bc6-88dd-9d6e0e6f25b9",
   "metadata": {},
   "source": [
    "# 5. Geographical Analysis:"
   ]
  },
  {
   "cell_type": "code",
   "execution_count": null,
   "id": "503e6b2b-1dc5-4df1-b363-748ce5c6aabf",
   "metadata": {},
   "outputs": [],
   "source": [
    "#Analyze the distribution of cases across different countries/regions.<br> Create geographical visualizations (e.g., world map).\n",
    "\n",
    "import pygal.maps.world\n",
    "worldmap=pygal.maps.world.world()\n",
    "world.title ='Countries'\n",
    "worldmap.add('Random Data', {\n",
    "    'aq':10,\n",
    "    'cd':30,\n",
    "    'de':40,\n",
    "    'eg':50,\n",
    "    'ga':45,\n",
    "    'hk':23,\n",
    "    'in':70,\n",
    "    'jp':54,\n",
    "    'nz':41,\n",
    "    'us':66,\n",
    "    'ab':32   \n",
    "})\n",
    "\n",
    "worldmap.render_to+file('abc.svg')\n",
    "print(\"Success\")"
   ]
  },
  {
   "cell_type": "code",
   "execution_count": 78,
   "id": "58ca3e0a-3acf-4d87-a2b1-ad13100d55fd",
   "metadata": {},
   "outputs": [],
   "source": [
    "# Geographical analysis\n",
    "# df_country = df.groupby('Country/Region').agg({'Confirmed': 'sum', 'Deaths': 'sum', 'Recovered': 'sum'})\n",
    "df_country=df.groupby('Country/Region').agg({'Confirmed':'sum','Deaths':'sum','Recovered':'sum'})"
   ]
  },
  {
   "cell_type": "code",
   "execution_count": 80,
   "id": "12f26a7e-f454-43fc-8f17-a7ac4bdfdfbf",
   "metadata": {},
   "outputs": [
    {
     "data": {
      "text/plain": [
       "<Axes: xlabel='Country/Region', ylabel='Confirmed'>"
      ]
     },
     "execution_count": 80,
     "metadata": {},
     "output_type": "execute_result"
    },
    {
     "data": {
      "image/png": "[encoded data removed]",
      "text/plain": [
       "<Figure size 640x480 with 1 Axes>"
      ]
     },
     "metadata": {},
     "output_type": "display_data"
    }
   ],
   "source": [
    "# Plot geographical data\n",
    "# sns.barplot(x=df_country.index, y='Confirmed', data=df_country)\n",
    "sns.barplot(x=df_country.index,y='Confirmed',data=df_country)"
   ]
  },
  {
   "cell_type": "code",
   "execution_count": null,
   "id": "fed5935f-6e62-4b32-a8d3-c8e8577b0525",
   "metadata": {},
   "outputs": [],
   "source": []
  },
  {
   "cell_type": "markdown",
   "id": "a9f0ac77-c5a0-4299-ae26-6ebf1daeaa10",
   "metadata": {},
   "source": [
    "# 6. Correlation Analysis:"
   ]
  },
  {
   "cell_type": "code",
   "execution_count": null,
   "id": "232227eb-ba60-44d2-b18d-bb038750ac7d",
   "metadata": {},
   "outputs": [],
   "source": [
    "Examine the correlation between different numeric variables."
   ]
  },
  {
   "cell_type": "code",
   "execution_count": 3,
   "id": "411ab503-918a-4d91-bd6e-de5c2593ca8b",
   "metadata": {},
   "outputs": [
    {
     "data": {
      "text/html": [
       "<div>\n",
       "<style scoped>\n",
       "    .dataframe tbody tr th:only-of-type {\n",
       "        vertical-align: middle;\n",
       "    }\n",
       "\n",
       "    .dataframe tbody tr th {\n",
       "        vertical-align: top;\n",
       "    }\n",
       "\n",
       "    .dataframe thead th {\n",
       "        text-align: right;\n",
       "    }\n",
       "</style>\n",
       "<table border=\"1\" class=\"dataframe\">\n",
       "  <thead>\n",
       "    <tr style=\"text-align: right;\">\n",
       "      <th></th>\n",
       "      <th>Confirmed</th>\n",
       "      <th>Deaths</th>\n",
       "      <th>Recovered</th>\n",
       "    </tr>\n",
       "  </thead>\n",
       "  <tbody>\n",
       "    <tr>\n",
       "      <th>Confirmed</th>\n",
       "      <td>1.000000</td>\n",
       "      <td>0.888416</td>\n",
       "      <td>0.633479</td>\n",
       "    </tr>\n",
       "    <tr>\n",
       "      <th>Deaths</th>\n",
       "      <td>0.888416</td>\n",
       "      <td>1.000000</td>\n",
       "      <td>0.538416</td>\n",
       "    </tr>\n",
       "    <tr>\n",
       "      <th>Recovered</th>\n",
       "      <td>0.633479</td>\n",
       "      <td>0.538416</td>\n",
       "      <td>1.000000</td>\n",
       "    </tr>\n",
       "  </tbody>\n",
       "</table>\n",
       "</div>"
      ],
      "text/plain": [
       "           Confirmed    Deaths  Recovered\n",
       "Confirmed   1.000000  0.888416   0.633479\n",
       "Deaths      0.888416  1.000000   0.538416\n",
       "Recovered   0.633479  0.538416   1.000000"
      ]
     },
     "execution_count": 3,
     "metadata": {},
     "output_type": "execute_result"
    }
   ],
   "source": [
    "# Correlation analysis between confirmed,deaths and recovered\n",
    "df[['Confirmed','Deaths','Recovered']].corr()"
   ]
  },
  {
   "cell_type": "code",
   "execution_count": 82,
   "id": "ed806548-7d31-4c66-851d-9bc95ea46d25",
   "metadata": {},
   "outputs": [
    {
     "data": {
      "text/plain": [
       "<Axes: xlabel='Recovered', ylabel='Deaths'>"
      ]
     },
     "execution_count": 82,
     "metadata": {},
     "output_type": "execute_result"
    },
    {
     "data": {
      "image/png": "[encoded data removed]",
      "text/plain": [
       "<Figure size 640x480 with 2 Axes>"
      ]
     },
     "metadata": {},
     "output_type": "display_data"
    }
   ],
   "source": [
    "# Plot correlation on heat map\n",
    "cross_tab=pd.crosstab(df['Deaths'],df['Recovered'])\n",
    "cross_tab\n",
    "\n",
    "sns.heatmap(cross_tab,annot=True)"
   ]
  },
  {
   "cell_type": "code",
   "execution_count": null,
   "id": "e35aee33-52e7-42df-acd8-fa5e9ff1ea11",
   "metadata": {},
   "outputs": [],
   "source": []
  },
  {
   "cell_type": "markdown",
   "id": "9052a1fb-8528-4801-865d-faa36f1c5b57",
   "metadata": {},
   "source": [
    "# 7. Advanced Analysis:"
   ]
  },
  {
   "cell_type": "code",
   "execution_count": null,
   "id": "5483c51e-a1e0-4af0-bf59-c39104640e97",
   "metadata": {},
   "outputs": [],
   "source": [
    "#Explore advanced visualizations or statistical tests based on the specific questions you want to answer."
   ]
  },
  {
   "cell_type": "code",
   "execution_count": 84,
   "id": "30da2431-7e68-4294-a005-a83870070899",
   "metadata": {},
   "outputs": [
    {
     "data": {
      "text/plain": [
       "Country/Region\n",
       " Azerbaijan                       8.567091e+04\n",
       "('St. Martin',)                   8.567091e+04\n",
       "Afghanistan                       3.949429e+07\n",
       "Albania                           3.829490e+07\n",
       "Algeria                           3.940862e+07\n",
       "                                      ...     \n",
       "West Bank and Gaza                3.683849e+07\n",
       "Yemen                             3.555343e+07\n",
       "Zambia                            3.752386e+07\n",
       "Zimbabwe                          3.735252e+07\n",
       "occupied Palestinian territory    5.996964e+05\n",
       "Name: Confirmed, Length: 229, dtype: float64"
      ]
     },
     "execution_count": 84,
     "metadata": {},
     "output_type": "execute_result"
    }
   ],
   "source": [
    "# Calculate the total number of confirmed cases, deaths, and recoveries for each country/region.\n",
    "df.groupby(by = ['Country/Region']).Confirmed.sum()"
   ]
  },
  {
   "cell_type": "code",
   "execution_count": 86,
   "id": "9b10ca47-5d37-4ccd-9ef2-ff836d26a324",
   "metadata": {},
   "outputs": [
    {
     "data": {
      "text/plain": [
       "Country/Region\n",
       " Azerbaijan                         2036.403268\n",
       "('St. Martin',)                     2036.403268\n",
       "Afghanistan                       938781.906533\n",
       "Albania                           910272.260781\n",
       "Algeria                           936745.503265\n",
       "                                      ...      \n",
       "West Bank and Gaza                875653.405226\n",
       "Yemen                             845107.356206\n",
       "Zambia                            891944.631370\n",
       "Zimbabwe                          887871.824834\n",
       "occupied Palestinian territory     14254.822876\n",
       "Name: Deaths, Length: 229, dtype: float64"
      ]
     },
     "execution_count": 86,
     "metadata": {},
     "output_type": "execute_result"
    }
   ],
   "source": [
    "# For Deaths\n",
    "df.groupby(by = ['Country/Region']).Deaths.sum()"
   ]
  },
  {
   "cell_type": "code",
   "execution_count": 88,
   "id": "35e182f5-49e8-4231-be8b-d42124fcfd55",
   "metadata": {},
   "outputs": [
    {
     "data": {
      "text/plain": [
       "Country/Region\n",
       " Azerbaijan                       5.042029e+04\n",
       "('St. Martin',)                   5.042029e+04\n",
       "Afghanistan                       2.324375e+07\n",
       "Albania                           2.253787e+07\n",
       "Algeria                           2.319333e+07\n",
       "                                      ...     \n",
       "West Bank and Gaza                2.168072e+07\n",
       "Yemen                             2.092442e+07\n",
       "Zambia                            2.208409e+07\n",
       "Zimbabwe                          2.198324e+07\n",
       "occupied Palestinian territory    3.529420e+05\n",
       "Name: Recovered, Length: 229, dtype: float64"
      ]
     },
     "execution_count": 88,
     "metadata": {},
     "output_type": "execute_result"
    }
   ],
   "source": [
    "# For Recoveries\n",
    "df.groupby(by = ['Country/Region']).Recovered.sum()"
   ]
  },
  {
   "cell_type": "code",
   "execution_count": null,
   "id": "6fe6a996-7edc-4e08-99a0-2b7d96104e04",
   "metadata": {},
   "outputs": [],
   "source": []
  },
  {
   "cell_type": "code",
   "execution_count": 91,
   "id": "883cd5f5-cb9d-407e-b28b-ab6d9dbe82fe",
   "metadata": {},
   "outputs": [
    {
     "data": {
      "text/plain": [
       "Country/Region\n",
       " Azerbaijan                       85670.911559\n",
       "('St. Martin',)                   85670.911559\n",
       "Afghanistan                       85670.911559\n",
       "Albania                           85670.911559\n",
       "Algeria                           85670.911559\n",
       "                                      ...     \n",
       "West Bank and Gaza                85670.911559\n",
       "Yemen                             85670.911559\n",
       "Zambia                            85670.911559\n",
       "Zimbabwe                          85670.911559\n",
       "occupied Palestinian territory    85670.911559\n",
       "Name: Confirmed, Length: 229, dtype: float64"
      ]
     },
     "execution_count": 91,
     "metadata": {},
     "output_type": "execute_result"
    }
   ],
   "source": [
    "# Identify the countries/regions with the highest number of confirmed cases, deaths, and recoveries.\n",
    "#\n",
    "df.groupby(by = ['Country/Region']).Confirmed.max()"
   ]
  },
  {
   "cell_type": "code",
   "execution_count": 93,
   "id": "40891dbb-fd0a-41dd-a67b-dae080ade47f",
   "metadata": {},
   "outputs": [
    {
     "data": {
      "text/plain": [
       "Country/Region\n",
       " Azerbaijan                       2036.403268\n",
       "('St. Martin',)                   2036.403268\n",
       "Afghanistan                       2036.403268\n",
       "Albania                           2036.403268\n",
       "Algeria                           2036.403268\n",
       "                                     ...     \n",
       "West Bank and Gaza                2036.403268\n",
       "Yemen                             2036.403268\n",
       "Zambia                            2036.403268\n",
       "Zimbabwe                          2036.403268\n",
       "occupied Palestinian territory    2036.403268\n",
       "Name: Deaths, Length: 229, dtype: float64"
      ]
     },
     "execution_count": 93,
     "metadata": {},
     "output_type": "execute_result"
    }
   ],
   "source": [
    "df.groupby(by = ['Country/Region']).Deaths.max()"
   ]
  },
  {
   "cell_type": "code",
   "execution_count": 94,
   "id": "861f447d-9586-4355-8c25-fa55b5abd14d",
   "metadata": {},
   "outputs": [
    {
     "data": {
      "text/plain": [
       "Country/Region\n",
       " Azerbaijan                       50420.286304\n",
       "('St. Martin',)                   50420.286304\n",
       "Afghanistan                       50420.286304\n",
       "Albania                           50420.286304\n",
       "Algeria                           50420.286304\n",
       "                                      ...     \n",
       "West Bank and Gaza                50420.286304\n",
       "Yemen                             50420.286304\n",
       "Zambia                            50420.286304\n",
       "Zimbabwe                          50420.286304\n",
       "occupied Palestinian territory    50420.286304\n",
       "Name: Recovered, Length: 229, dtype: float64"
      ]
     },
     "execution_count": 94,
     "metadata": {},
     "output_type": "execute_result"
    }
   ],
   "source": [
    "df.groupby(by = ['Country/Region']).Recovered.max()"
   ]
  },
  {
   "cell_type": "code",
   "execution_count": 97,
   "id": "b77c6bc8-df7b-4734-bff6-e912c75f8fa2",
   "metadata": {},
   "outputs": [
    {
     "data": {
      "image/png": "[encoded data removed]",
      "text/plain": [
       "<Figure size 640x480 with 1 Axes>"
      ]
     },
     "metadata": {},
     "output_type": "display_data"
    },
    {
     "data": {
      "text/plain": [
       "<Figure size 500x300 with 0 Axes>"
      ]
     },
     "metadata": {},
     "output_type": "display_data"
    }
   ],
   "source": [
    "# Visualize the distribution of deaths using bar chart\n",
    "import matplotlib.pyplot as plt\n",
    "import seaborn as sns\n",
    "sns.countplot(x='Deaths',data=df)\n",
    "plt.title(\"Bar chart for Deaths\")\n",
    "plt.figure(figsize=(5,3))\n",
    "plt.show()"
   ]
  },
  {
   "cell_type": "code",
   "execution_count": null,
   "id": "1b705696-25ac-4bf5-8571-9389f8dd9195",
   "metadata": {},
   "outputs": [],
   "source": []
  },
  {
   "cell_type": "code",
   "execution_count": null,
   "id": "ded43194-a583-4f6b-a69f-42b1649569ff",
   "metadata": {},
   "outputs": [],
   "source": []
  }
 ],
 "metadata": {
  "kernelspec": {
   "display_name": "Python 3 (ipykernel)",
   "language": "python",
   "name": "python3"
  },
  "language_info": {
   "codemirror_mode": {
    "name": "ipython",
    "version": 3
   },
   "file_extension": ".py",
   "mimetype": "text/x-python",
   "name": "python",
   "nbconvert_exporter": "python",
   "pygments_lexer": "ipython3",
   "version": "3.12.4"
  }
 },
 "nbformat": 4,
 "nbformat_minor": 5
}
